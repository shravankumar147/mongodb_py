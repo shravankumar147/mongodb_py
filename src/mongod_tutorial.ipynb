{
 "cells": [
  {
   "cell_type": "code",
   "execution_count": 1,
   "metadata": {
    "collapsed": true
   },
   "outputs": [],
   "source": [
    "def main():\n",
    "\n",
    "    while(1):\n",
    "    # chossing option to do CRUD operations\n",
    "        selection = raw_input('\\nSelect 1 to insert, 2 to update, 3 to read, 4 to delete\\n')\n",
    "    \n",
    "        if selection == '1':\n",
    "            insert()\n",
    "        elif selection == '2':\n",
    "            update()\n",
    "        elif selection == '3':\n",
    "            read()\n",
    "        elif selection == '4':\n",
    "            delete()\n",
    "        else:\n",
    "            print '\\n INVALID SELECTION \\n'"
   ]
  },
  {
   "cell_type": "code",
   "execution_count": 3,
   "metadata": {
    "collapsed": false
   },
   "outputs": [],
   "source": [
    "# Function to insert data into mongo db\n",
    "def insert():\n",
    "    try:\n",
    "        employeeId = raw_input('Enter Employee id :')\n",
    "        employeeName = raw_input('Enter Name :')\n",
    "        employeeAge = raw_input('Enter age :')\n",
    "        employeeCountry = raw_input('Enter Country :')\n",
    "    \n",
    "    except Exception, e:\n",
    "        print str(e)"
   ]
  },
  {
   "cell_type": "code",
   "execution_count": 4,
   "metadata": {
    "collapsed": true
   },
   "outputs": [],
   "source": [
    "from pymongo import MongoClient"
   ]
  },
  {
   "cell_type": "code",
   "execution_count": 5,
   "metadata": {
    "collapsed": true
   },
   "outputs": [],
   "source": [
    "client = MongoClient('localhost:27017')"
   ]
  },
  {
   "cell_type": "code",
   "execution_count": 6,
   "metadata": {
    "collapsed": true
   },
   "outputs": [],
   "source": [
    "# creating connectioons for communicating with Mongo DB\n",
    "client = MongoClient('localhost:27017')\n",
    "db = client.EmployeeData"
   ]
  },
  {
   "cell_type": "code",
   "execution_count": 7,
   "metadata": {
    "collapsed": false
   },
   "outputs": [
    {
     "ename": "NameError",
     "evalue": "name 'employeeId' is not defined",
     "output_type": "error",
     "traceback": [
      "\u001b[0;31m---------------------------------------------------------------------------\u001b[0m",
      "\u001b[0;31mNameError\u001b[0m                                 Traceback (most recent call last)",
      "\u001b[0;32m<ipython-input-7-c47fec2b6f01>\u001b[0m in \u001b[0;36m<module>\u001b[0;34m()\u001b[0m\n\u001b[1;32m      1\u001b[0m db.Employees.insert_one(\n\u001b[1;32m      2\u001b[0m         {\n\u001b[0;32m----> 3\u001b[0;31m         \u001b[0;34m\"id\"\u001b[0m\u001b[0;34m:\u001b[0m \u001b[0memployeeId\u001b[0m\u001b[0;34m,\u001b[0m\u001b[0;34m\u001b[0m\u001b[0m\n\u001b[0m\u001b[1;32m      4\u001b[0m             \u001b[0;34m\"name\"\u001b[0m\u001b[0;34m:\u001b[0m\u001b[0memployeeName\u001b[0m\u001b[0;34m,\u001b[0m\u001b[0;34m\u001b[0m\u001b[0m\n\u001b[1;32m      5\u001b[0m         \u001b[0;34m\"age\"\u001b[0m\u001b[0;34m:\u001b[0m\u001b[0memployeeAge\u001b[0m\u001b[0;34m,\u001b[0m\u001b[0;34m\u001b[0m\u001b[0m\n",
      "\u001b[0;31mNameError\u001b[0m: name 'employeeId' is not defined"
     ]
    }
   ],
   "source": [
    "db.Employees.insert_one(\n",
    "        {\n",
    "        \"id\": employeeId,\n",
    "            \"name\":employeeName,\n",
    "        \"age\":employeeAge,\n",
    "        \"country\":employeeCountry\n",
    "        })\n"
   ]
  },
  {
   "cell_type": "code",
   "execution_count": 10,
   "metadata": {
    "collapsed": false
   },
   "outputs": [],
   "source": [
    "# Function to insert data into mongo db\n",
    "def insert():\n",
    "    try:\n",
    "        employeeId = raw_input('Enter Employee id :')\n",
    "        employeeName = raw_input('Enter Name :')\n",
    "        employeeAge = raw_input('Enter age :')\n",
    "        employeeCountry = raw_input('Enter Country :')\n",
    "        \n",
    "        db.Employees.insert_one(\n",
    "        {\n",
    "        \"id\": employeeId,\n",
    "            \"name\":employeeName,\n",
    "        \"age\":employeeAge,\n",
    "        \"country\":employeeCountry\n",
    "        })\n",
    "        print '\\nInserted data successfully\\n'\n",
    "    \n",
    "    except Exception, e:\n",
    "        print str(e)"
   ]
  },
  {
   "cell_type": "code",
   "execution_count": null,
   "metadata": {
    "collapsed": true
   },
   "outputs": [],
   "source": []
  },
  {
   "cell_type": "code",
   "execution_count": null,
   "metadata": {
    "collapsed": true
   },
   "outputs": [],
   "source": []
  }
 ],
 "metadata": {
  "anaconda-cloud": {},
  "kernelspec": {
   "display_name": "Python [conda root]",
   "language": "python",
   "name": "conda-root-py"
  },
  "language_info": {
   "codemirror_mode": {
    "name": "ipython",
    "version": 2
   },
   "file_extension": ".py",
   "mimetype": "text/x-python",
   "name": "python",
   "nbconvert_exporter": "python",
   "pygments_lexer": "ipython2",
   "version": "2.7.12"
  }
 },
 "nbformat": 4,
 "nbformat_minor": 1
}
